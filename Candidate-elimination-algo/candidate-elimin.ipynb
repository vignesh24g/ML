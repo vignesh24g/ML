{
  "cells": [
    {
      "cell_type": "code",
      "execution_count": 1,
      "metadata": {},
      "outputs": [],
      "source": [
        "import numpy as np \n",
        "import pandas as pd"
      ]
    },
    {
      "cell_type": "code",
      "execution_count": 2,
      "metadata": {},
      "outputs": [
        {
          "data": {
            "text/html": [
              "<div>\n",
              "<style scoped>\n",
              "    .dataframe tbody tr th:only-of-type {\n",
              "        vertical-align: middle;\n",
              "    }\n",
              "\n",
              "    .dataframe tbody tr th {\n",
              "        vertical-align: top;\n",
              "    }\n",
              "\n",
              "    .dataframe thead th {\n",
              "        text-align: right;\n",
              "    }\n",
              "</style>\n",
              "<table border=\"1\" class=\"dataframe\">\n",
              "  <thead>\n",
              "    <tr style=\"text-align: right;\">\n",
              "      <th></th>\n",
              "      <th>Origin</th>\n",
              "      <th>Manufacturer</th>\n",
              "      <th>Color</th>\n",
              "      <th>Decade</th>\n",
              "      <th>Type</th>\n",
              "      <th>Example Type</th>\n",
              "    </tr>\n",
              "  </thead>\n",
              "  <tbody>\n",
              "    <tr>\n",
              "      <th>0</th>\n",
              "      <td>Japan</td>\n",
              "      <td>Honda</td>\n",
              "      <td>Blue</td>\n",
              "      <td>1980</td>\n",
              "      <td>Economy</td>\n",
              "      <td>Positive</td>\n",
              "    </tr>\n",
              "    <tr>\n",
              "      <th>1</th>\n",
              "      <td>Japan</td>\n",
              "      <td>Toyota</td>\n",
              "      <td>Green</td>\n",
              "      <td>1970</td>\n",
              "      <td>Sports</td>\n",
              "      <td>Negative</td>\n",
              "    </tr>\n",
              "    <tr>\n",
              "      <th>2</th>\n",
              "      <td>Japan</td>\n",
              "      <td>Toyota</td>\n",
              "      <td>Blue</td>\n",
              "      <td>1990</td>\n",
              "      <td>Economy</td>\n",
              "      <td>Positive</td>\n",
              "    </tr>\n",
              "    <tr>\n",
              "      <th>3</th>\n",
              "      <td>USA</td>\n",
              "      <td>Chrysler</td>\n",
              "      <td>Red</td>\n",
              "      <td>1980</td>\n",
              "      <td>Economy</td>\n",
              "      <td>Negative</td>\n",
              "    </tr>\n",
              "    <tr>\n",
              "      <th>4</th>\n",
              "      <td>Japan</td>\n",
              "      <td>Honda</td>\n",
              "      <td>White</td>\n",
              "      <td>1980</td>\n",
              "      <td>Economy</td>\n",
              "      <td>Positive</td>\n",
              "    </tr>\n",
              "    <tr>\n",
              "      <th>5</th>\n",
              "      <td>Japan</td>\n",
              "      <td>Toyota</td>\n",
              "      <td>Green</td>\n",
              "      <td>1980</td>\n",
              "      <td>Economy</td>\n",
              "      <td>Positive</td>\n",
              "    </tr>\n",
              "    <tr>\n",
              "      <th>6</th>\n",
              "      <td>Japan</td>\n",
              "      <td>Honda</td>\n",
              "      <td>Red</td>\n",
              "      <td>1990</td>\n",
              "      <td>Economy</td>\n",
              "      <td>Negative</td>\n",
              "    </tr>\n",
              "  </tbody>\n",
              "</table>\n",
              "</div>"
            ],
            "text/plain": [
              "  Origin Manufacturer  Color  Decade     Type Example Type\n",
              "0  Japan        Honda   Blue    1980  Economy     Positive\n",
              "1  Japan       Toyota  Green    1970   Sports     Negative\n",
              "2  Japan       Toyota   Blue    1990  Economy     Positive\n",
              "3    USA     Chrysler    Red    1980  Economy     Negative\n",
              "4  Japan        Honda  White    1980  Economy     Positive\n",
              "5  Japan       Toyota  Green    1980  Economy     Positive\n",
              "6  Japan        Honda    Red    1990  Economy     Negative"
            ]
          },
          "execution_count": 2,
          "metadata": {},
          "output_type": "execute_result"
        }
      ],
      "source": [
        "data = pd.read_csv('Japanese_Economy_Car.csv')\n",
        "data"
      ]
    },
    {
      "cell_type": "code",
      "execution_count": 3,
      "metadata": {},
      "outputs": [
        {
          "name": "stdout",
          "output_type": "stream",
          "text": [
            "\n",
            "Instances are:\n",
            " [['Japan' 'Honda' 'Blue' 1980 'Economy']\n",
            " ['Japan' 'Toyota' 'Green' 1970 'Sports']\n",
            " ['Japan' 'Toyota' 'Blue' 1990 'Economy']\n",
            " ['USA' 'Chrysler' 'Red' 1980 'Economy']\n",
            " ['Japan' 'Honda' 'White' 1980 'Economy']]\n",
            "\n",
            "Target Values are:  ['Positive' 'Negative' 'Positive' 'Negative' 'Positive']\n"
          ]
        }
      ],
      "source": [
        "concepts = np.array(data.iloc[:5,:-1])\n",
        "print(\"\\nInstances are:\\n\",concepts)\n",
        "target = np.array(data.iloc[:5,-1])\n",
        "print(\"\\nTarget Values are: \",target)"
      ]
    },
    {
      "cell_type": "code",
      "execution_count": 4,
      "metadata": {
        "colab": {
          "base_uri": "https://localhost:8080/"
        },
        "id": "K3v87TqnhpbI",
        "outputId": "5c707af1-7bd6-4cab-cb01-04aa27c14fb4"
      },
      "outputs": [],
      "source": [
        "def learn(concepts, target): \n",
        "    specific_h = concepts[0].copy()\n",
        "    print(\"\\nInitialization of specific_h and genearal_h\")\n",
        "    print(\"\\nSpecific Boundary: \", specific_h)\n",
        "    general_h = [[\"?\" for i in range(len(specific_h))] for i in range(len(specific_h))]\n",
        "    print(\"\\nGeneric Boundary: \",general_h)  \n",
        "\n",
        "    for i, h in enumerate(concepts):\n",
        "        print(\"\\nInstance\", i+1 , \"is \", h)\n",
        "        if target[i] == \"Positive\":\n",
        "            print(\"Instance is Positive \")\n",
        "            for x in range(len(specific_h)): \n",
        "                if h[x]!= specific_h[x]:                    \n",
        "                    specific_h[x] ='?'                     \n",
        "                    general_h[x][x] ='?'\n",
        "                   \n",
        "        if target[i] == \"Negative\":            \n",
        "            print(\"Instance is Negative \")\n",
        "            for x in range(len(specific_h)): \n",
        "                if h[x]!= specific_h[x]:\n",
        "                  general_h[x][x] = specific_h[x]   \n",
        "                elif(h[x]==specific_h[x] and general_h[x][x]==specific_h[x]):\n",
        "                      general_h[0][x]=specific_h[x]\n",
        "                      general_h[x][x]='?'        \n",
        "                else:                    \n",
        "                    general_h[x][x] = '?'        \n",
        "        \n",
        "        print(\"Specific Bundary after \", i+1, \"Instance is \", specific_h)         \n",
        "        print(\"Generic Boundary after \", i+1, \"Instance is \", general_h)\n",
        "        print(\"\\n\")\n",
        "\n",
        "    indices = [i for i, val in enumerate(general_h) if val == ['?', '?', '?', '?', '?', '?']]    \n",
        "    for i in indices:   \n",
        "        general_h.remove(['?', '?', '?', '?', '?', '?']) \n",
        "    return specific_h, general_h \n",
        "\n",
        "\n"
      ]
    },
    {
      "cell_type": "code",
      "execution_count": 5,
      "metadata": {},
      "outputs": [
        {
          "name": "stdout",
          "output_type": "stream",
          "text": [
            "\n",
            "Initialization of specific_h and genearal_h\n",
            "\n",
            "Specific Boundary:  ['Japan' 'Honda' 'Blue' 1980 'Economy']\n",
            "\n",
            "Generic Boundary:  [['?', '?', '?', '?', '?'], ['?', '?', '?', '?', '?'], ['?', '?', '?', '?', '?'], ['?', '?', '?', '?', '?'], ['?', '?', '?', '?', '?']]\n",
            "\n",
            "Instance 1 is  ['Japan' 'Honda' 'Blue' 1980 'Economy']\n",
            "Instance is Positive \n",
            "Specific Bundary after  1 Instance is  ['Japan' 'Honda' 'Blue' 1980 'Economy']\n",
            "Generic Boundary after  1 Instance is  [['?', '?', '?', '?', '?'], ['?', '?', '?', '?', '?'], ['?', '?', '?', '?', '?'], ['?', '?', '?', '?', '?'], ['?', '?', '?', '?', '?']]\n",
            "\n",
            "\n",
            "\n",
            "Instance 2 is  ['Japan' 'Toyota' 'Green' 1970 'Sports']\n",
            "Instance is Negative \n",
            "Specific Bundary after  2 Instance is  ['Japan' 'Honda' 'Blue' 1980 'Economy']\n",
            "Generic Boundary after  2 Instance is  [['?', '?', '?', '?', '?'], ['?', 'Honda', '?', '?', '?'], ['?', '?', 'Blue', '?', '?'], ['?', '?', '?', 1980, '?'], ['?', '?', '?', '?', 'Economy']]\n",
            "\n",
            "\n",
            "\n",
            "Instance 3 is  ['Japan' 'Toyota' 'Blue' 1990 'Economy']\n",
            "Instance is Positive \n",
            "Specific Bundary after  3 Instance is  ['Japan' '?' 'Blue' '?' 'Economy']\n",
            "Generic Boundary after  3 Instance is  [['?', '?', '?', '?', '?'], ['?', '?', '?', '?', '?'], ['?', '?', 'Blue', '?', '?'], ['?', '?', '?', '?', '?'], ['?', '?', '?', '?', 'Economy']]\n",
            "\n",
            "\n",
            "\n",
            "Instance 4 is  ['USA' 'Chrysler' 'Red' 1980 'Economy']\n",
            "Instance is Negative \n",
            "Specific Bundary after  4 Instance is  ['Japan' '?' 'Blue' '?' 'Economy']\n",
            "Generic Boundary after  4 Instance is  [['Japan', '?', '?', '?', 'Economy'], ['?', '?', '?', '?', '?'], ['?', '?', 'Blue', '?', '?'], ['?', '?', '?', '?', '?'], ['?', '?', '?', '?', '?']]\n",
            "\n",
            "\n",
            "\n",
            "Instance 5 is  ['Japan' 'Honda' 'White' 1980 'Economy']\n",
            "Instance is Positive \n",
            "Specific Bundary after  5 Instance is  ['Japan' '?' '?' '?' 'Economy']\n",
            "Generic Boundary after  5 Instance is  [['Japan', '?', '?', '?', 'Economy'], ['?', '?', '?', '?', '?'], ['?', '?', '?', '?', '?'], ['?', '?', '?', '?', '?'], ['?', '?', '?', '?', '?']]\n",
            "\n",
            "\n",
            "Final Specific_h: \n",
            "['Japan' '?' '?' '?' 'Economy']\n",
            "Final General_h: \n",
            "[['Japan', '?', '?', '?', 'Economy'], ['?', '?', '?', '?', '?'], ['?', '?', '?', '?', '?'], ['?', '?', '?', '?', '?'], ['?', '?', '?', '?', '?']]\n"
          ]
        }
      ],
      "source": [
        "s_final, g_final = learn(concepts, target)\n",
        "\n",
        "print(\"Final Specific_h: \", s_final, sep=\"\\n\")\n",
        "print(\"Final General_h: \", g_final, sep=\"\\n\")\n"
      ]
    }
  ],
  "metadata": {
    "colab": {
      "authorship_tag": "ABX9TyPjImjRoR3q7CF6Eyu/3UuI",
      "collapsed_sections": [],
      "include_colab_link": true,
      "name": "CES.ipynb",
      "provenance": []
    },
    "kernelspec": {
      "display_name": "Python 3",
      "name": "python3"
    },
    "language_info": {
      "codemirror_mode": {
        "name": "ipython",
        "version": 3
      },
      "file_extension": ".py",
      "mimetype": "text/x-python",
      "name": "python",
      "nbconvert_exporter": "python",
      "pygments_lexer": "ipython3",
      "version": "3.7.4"
    }
  },
  "nbformat": 4,
  "nbformat_minor": 0
}
