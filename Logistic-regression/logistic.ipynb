{
 "cells": [
  {
   "cell_type": "code",
   "execution_count": 10,
   "metadata": {},
   "outputs": [],
   "source": [
    "import pandas as pd\n",
    "import numpy as np\n",
    "from sklearn.model_selection import train_test_split\n",
    "from sklearn.metrics import classification_report as cr\n",
    "from sklearn.metrics import confusion_matrix as cm\n",
    "from sklearn.linear_model import LogisticRegression\n",
    "from sklearn.preprocessing import LabelEncoder\n",
    "from sklearn import metrics"
   ]
  },
  {
   "cell_type": "code",
   "execution_count": 17,
   "metadata": {},
   "outputs": [
    {
     "name": "stdout",
     "output_type": "stream",
     "text": [
      "     class  age  sex  steroid  antivirals  fatigue  malaise  anorexia  \\\n",
      "0        2   30    2        1           2        2        2         2   \n",
      "1        2   50    1        1           2        1        2         2   \n",
      "2        2   78    1        2           2        1        2         2   \n",
      "3        2   34    1        2           2        2        2         2   \n",
      "4        2   34    1        2           2        2        2         2   \n",
      "..     ...  ...  ...      ...         ...      ...      ...       ...   \n",
      "137      1   46    1        2           2        1        1         1   \n",
      "138      2   44    1        2           2        1        2         2   \n",
      "139      2   61    1        1           2        1        1         2   \n",
      "140      2   53    2        1           2        1        2         2   \n",
      "141      1   43    1        2           2        1        2         2   \n",
      "\n",
      "     liver_big  liver_firm  spleen_palable  spiders  ascites  varices  \\\n",
      "0            1           2               2        2        2        2   \n",
      "1            1           2               2        2        2        2   \n",
      "2            2           2               2        2        2        2   \n",
      "3            2           2               2        2        2        2   \n",
      "4            2           2               2        2        2        2   \n",
      "..         ...         ...             ...      ...      ...      ...   \n",
      "137          2           1               2        1        1        1   \n",
      "138          2           1               2        2        2        2   \n",
      "139          1           2               2        1        2        2   \n",
      "140          2           2               1        1        2        1   \n",
      "141          2           2               1        1        1        2   \n",
      "\n",
      "     bilirubin  alk_phosphate  sgot  albumin  protime  histology  \n",
      "0          1.0             85    18      4.0       61          1  \n",
      "1          0.9            135    42      3.5       61          1  \n",
      "2          0.7             96    32      4.0       61          1  \n",
      "3          1.0            105   200      4.0       61          1  \n",
      "4          0.9             95    28      4.0       75          1  \n",
      "..         ...            ...   ...      ...      ...        ...  \n",
      "137        7.6            105   242      3.3       50          2  \n",
      "138        0.9            126   142      4.3       61          2  \n",
      "139        0.8             75    20      4.1       61          2  \n",
      "140        1.5             81    19      4.1       48          2  \n",
      "141        1.2            100    19      3.1       42          2  \n",
      "\n",
      "[142 rows x 20 columns]\n"
     ]
    }
   ],
   "source": [
    "data=pd.read_csv(\"hepatitis.csv\")\n",
    "print(data)\n",
    "df_enc=data.apply(LabelEncoder().fit_transform)\n",
    "x=np.array(data)[:,:-1]\n",
    "y=np.array(df_enc)[:,-1]"
   ]
  },
  {
   "cell_type": "code",
   "execution_count": 3,
   "metadata": {},
   "outputs": [
    {
     "name": "stdout",
     "output_type": "stream",
     "text": [
      "[[ 2.  30.   2.  ... 18.   4.  61. ]\n",
      " [ 2.  50.   1.  ... 42.   3.5 61. ]\n",
      " [ 2.  78.   1.  ... 32.   4.  61. ]\n",
      " ...\n",
      " [ 2.  61.   1.  ... 20.   4.1 61. ]\n",
      " [ 2.  53.   2.  ... 19.   4.1 48. ]\n",
      " [ 1.  43.   1.  ... 19.   3.1 42. ]]\n",
      "[0 0 0 0 0 0 0 0 0 0 0 0 0 0 0 0 0 1 0 0 0 0 0 0 0 0 0 0 0 0 0 0 0 0 0 0 0\n",
      " 1 0 0 0 0 0 0 0 0 0 0 0 0 0 0 0 0 0 0 0 0 0 0 0 0 0 0 0 0 0 0 0 0 0 0 0 0\n",
      " 0 0 0 0 0 0 1 1 1 1 1 1 1 1 1 1 1 1 1 1 1 1 1 1 1 1 1 1 1 1 1 0 1 1 1 1 1\n",
      " 1 1 1 1 1 1 1 1 1 1 1 1 1 1 1 1 1 1 1 1 1 1 1 1 1 1 1 1 1 1 1]\n"
     ]
    }
   ],
   "source": [
    "print(x)\n",
    "print(y)"
   ]
  },
  {
   "cell_type": "code",
   "execution_count": 4,
   "metadata": {},
   "outputs": [],
   "source": [
    "x_train,x_test,y_train,y_test=train_test_split(x,y,test_size=0.2)"
   ]
  },
  {
   "cell_type": "code",
   "execution_count": 5,
   "metadata": {},
   "outputs": [],
   "source": [
    "class LogisticRegressionn:\n",
    "    def __init__(self, learning_rate=0.001, n_iters=5000):\n",
    "        self.lr = learning_rate\n",
    "        self.n_iters = n_iters\n",
    "        self.weights = None\n",
    "        self.bias = None\n",
    "\n",
    "    def fit(self, X, y):\n",
    "        n_samples, n_features = X.shape\n",
    "        # init parameters\n",
    "        self.weights = np.zeros(n_features)\n",
    "        self.bias = 0\n",
    "\n",
    "        # gradient descent\n",
    "        for _ in range(self.n_iters):\n",
    "            # approximate y with linear combination of weights and x, plus bias\n",
    "            for idx,x_i in enumerate(X):\n",
    "            # approximate y with linear combination of weights and x, plus bias\n",
    "                linear_model = np.dot(x_i, self.weights) + self.bias\n",
    "            # apply sigmoid function\n",
    "                y_predicted = self._sigmoid(linear_model)\n",
    "            # compute gradients\n",
    "                dw = (1 / n_samples) * np.dot(x_i, (y_predicted - y[idx]))\n",
    "                db = (1 / n_samples) * np.sum(y_predicted - y[idx])\n",
    "            # update parameters\n",
    "                self.weights -= self.lr * dw\n",
    "                self.bias -= self.lr * db\n",
    "\n",
    "    def predict(self, X):\n",
    "        linear_model = np.dot(X, self.weights) + self.bias\n",
    "        y_predicted = self._sigmoid(linear_model)\n",
    "        y_predicted_cls = [1 if i > 0.5 else 0 for i in y_predicted]\n",
    "        return np.array(y_predicted_cls)\n",
    "\n",
    "    def _sigmoid(self, x):\n",
    "        return 1 / (1 + np.exp(-x))\n",
    "\n",
    "    def _relu(self,x):\n",
    "        return x*(x>0)\n",
    "\n",
    "    def  _tanh(self,x):\n",
    "        return np.tanh(x)\n",
    "    \n",
    "\n",
    "\n",
    "   \n"
   ]
  },
  {
   "cell_type": "code",
   "execution_count": 6,
   "metadata": {},
   "outputs": [],
   "source": [
    "model=LogisticRegressionn()\n",
    "model.fit(x_train,y_train)"
   ]
  },
  {
   "cell_type": "code",
   "execution_count": 7,
   "metadata": {},
   "outputs": [
    {
     "data": {
      "text/plain": [
       "array([1, 0, 0, 0, 1, 1, 0, 0, 0, 0, 0, 1, 0, 0, 0, 0, 0, 0, 0, 0, 0, 0,\n",
       "       0, 0, 1, 1, 0, 0, 1])"
      ]
     },
     "execution_count": 7,
     "metadata": {},
     "output_type": "execute_result"
    }
   ],
   "source": [
    "y_pred=model.predict(x_test)\n",
    "y_pred"
   ]
  },
  {
   "cell_type": "code",
   "execution_count": 8,
   "metadata": {},
   "outputs": [
    {
     "name": "stdout",
     "output_type": "stream",
     "text": [
      "[[17  2]\n",
      " [ 5  5]]\n",
      "              precision    recall  f1-score   support\n",
      "\n",
      "           0       0.77      0.89      0.83        19\n",
      "           1       0.71      0.50      0.59        10\n",
      "\n",
      "    accuracy                           0.76        29\n",
      "   macro avg       0.74      0.70      0.71        29\n",
      "weighted avg       0.75      0.76      0.75        29\n",
      "\n"
     ]
    }
   ],
   "source": [
    "print(cm(y_test,y_pred))\n",
    "print(cr(y_test,y_pred))"
   ]
  },
  {
   "cell_type": "code",
   "execution_count": 11,
   "metadata": {},
   "outputs": [
    {
     "name": "stdout",
     "output_type": "stream",
     "text": [
      "0.2413793103448276\n",
      "0.2413793103448276\n",
      "-0.06842105263157916\n"
     ]
    }
   ],
   "source": [
    "mae = metrics.mean_absolute_error(y_test, y_pred)\n",
    "mse = metrics.mean_squared_error(y_test, y_pred)\n",
    "r2 = metrics.r2_score(y_test,y_pred)\n",
    "\n",
    "print(mae)\n",
    "print(mse)\n",
    "print(r2)"
   ]
  },
  {
   "cell_type": "markdown",
   "metadata": {},
   "source": [
    "implementing logistic regression using sklearn package"
   ]
  },
  {
   "cell_type": "code",
   "execution_count": 13,
   "metadata": {},
   "outputs": [
    {
     "data": {
      "text/plain": [
       "LogisticRegression(max_iter=1000)"
      ]
     },
     "execution_count": 13,
     "metadata": {},
     "output_type": "execute_result"
    }
   ],
   "source": [
    "model2=LogisticRegression(max_iter=1000)\n",
    "model2.fit(x_train,y_train)"
   ]
  },
  {
   "cell_type": "code",
   "execution_count": 14,
   "metadata": {},
   "outputs": [],
   "source": [
    "y_pred2=model2.predict(x_test)"
   ]
  },
  {
   "cell_type": "code",
   "execution_count": 15,
   "metadata": {},
   "outputs": [
    {
     "name": "stdout",
     "output_type": "stream",
     "text": [
      "[[16  3]\n",
      " [ 3  7]]\n",
      "              precision    recall  f1-score   support\n",
      "\n",
      "           0       0.84      0.84      0.84        19\n",
      "           1       0.70      0.70      0.70        10\n",
      "\n",
      "    accuracy                           0.79        29\n",
      "   macro avg       0.77      0.77      0.77        29\n",
      "weighted avg       0.79      0.79      0.79        29\n",
      "\n"
     ]
    }
   ],
   "source": [
    "print(cm(y_test,y_pred2))\n",
    "print(cr(y_test,y_pred2))"
   ]
  },
  {
   "cell_type": "code",
   "execution_count": 16,
   "metadata": {},
   "outputs": [
    {
     "name": "stdout",
     "output_type": "stream",
     "text": [
      "0.20689655172413793\n",
      "0.20689655172413793\n",
      "0.0842105263157894\n"
     ]
    }
   ],
   "source": [
    "from sklearn import metrics\n",
    "mae = metrics.mean_absolute_error(y_test, y_pred2)\n",
    "mse = metrics.mean_squared_error(y_test, y_pred2)\n",
    "r2 = metrics.r2_score(y_test,y_pred2)\n",
    "\n",
    "print(mae)\n",
    "print(mse)\n",
    "print(r2)\n"
   ]
  }
 ],
 "metadata": {
  "interpreter": {
   "hash": "136fbfdfec50e0de1d76604990c939142d19f0ac143ab97a6967c168d22f1d93"
  },
  "kernelspec": {
   "display_name": "Python 3.7.4 32-bit",
   "language": "python",
   "name": "python3"
  },
  "language_info": {
   "codemirror_mode": {
    "name": "ipython",
    "version": 3
   },
   "file_extension": ".py",
   "mimetype": "text/x-python",
   "name": "python",
   "nbconvert_exporter": "python",
   "pygments_lexer": "ipython3",
   "version": "3.7.4"
  },
  "orig_nbformat": 4
 },
 "nbformat": 4,
 "nbformat_minor": 2
}
