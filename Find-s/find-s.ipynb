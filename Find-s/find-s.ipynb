{
 "cells": [
  {
   "cell_type": "code",
   "execution_count": 1,
   "metadata": {},
   "outputs": [],
   "source": [
    "import numpy as np\n",
    "import pandas as pd"
   ]
  },
  {
   "cell_type": "code",
   "execution_count": 2,
   "metadata": {},
   "outputs": [
    {
     "name": "stdout",
     "output_type": "stream",
     "text": [
      "     sky air_temp humidity    wind water forecast enjoy_sport\n",
      "0  sunny     warm   normal  strong  warm     same         yes\n",
      "1  sunny     warm     high  strong  warm     same         yes\n",
      "2  rainy     cold     high  strong  warm   change          no\n",
      "3  sunny     warm     high  strong  cool   change         yes\n"
     ]
    }
   ],
   "source": [
    "data=pd.read_csv(\"enjoysport.csv\")\n",
    "print(data)\n",
    "x=np.array(data)[:,:-1]\n",
    "y=np.array(data)[:,-1]"
   ]
  },
  {
   "cell_type": "code",
   "execution_count": 3,
   "metadata": {},
   "outputs": [
    {
     "name": "stdout",
     "output_type": "stream",
     "text": [
      "[['sunny' 'warm' 'normal' 'strong' 'warm' 'same']\n",
      " ['sunny' 'warm' 'high' 'strong' 'warm' 'same']\n",
      " ['rainy' 'cold' 'high' 'strong' 'warm' 'change']\n",
      " ['sunny' 'warm' 'high' 'strong' 'cool' 'change']]\n",
      "['yes' 'yes' 'no' 'yes']\n"
     ]
    }
   ],
   "source": [
    "print(x)\n",
    "print(y)"
   ]
  },
  {
   "cell_type": "code",
   "execution_count": 4,
   "metadata": {},
   "outputs": [
    {
     "data": {
      "text/plain": [
       "array([0., 0., 0., 0., 0., 0.])"
      ]
     },
     "execution_count": 4,
     "metadata": {},
     "output_type": "execute_result"
    }
   ],
   "source": [
    "specific_hypo=np.zeros(len(x[0]))#more general hypothesis 0.\n",
    "specific_hypo"
   ]
  },
  {
   "cell_type": "code",
   "execution_count": 7,
   "metadata": {},
   "outputs": [],
   "source": [
    "def finds(attr,target):\n",
    "    for i, val in enumerate(target):\n",
    "        if val==\"yes\":\n",
    "            specific_hypo=attr[i].copy()\n",
    "            break\n",
    "    \n",
    "    for i,attr in enumerate(attr):\n",
    "        if target[i]=='yes':\n",
    "            for x in range(len(specific_hypo)):\n",
    "                if specific_hypo[x]!=attr[x]:\n",
    "                    specific_hypo[x]='?'\n",
    "                else:\n",
    "                    pass\n",
    "        print(\"\\nAfter\",(i+1),\"th iteration specific-hypothesis:\")\n",
    "        print(specific_hypo)\n",
    "    return specific_hypo"
   ]
  },
  {
   "cell_type": "code",
   "execution_count": 8,
   "metadata": {},
   "outputs": [
    {
     "name": "stdout",
     "output_type": "stream",
     "text": [
      "\n",
      "After 1 th iteration specific-hypothesis:\n",
      "['sunny' 'warm' 'normal' 'strong' 'warm' 'same']\n",
      "\n",
      "After 2 th iteration specific-hypothesis:\n",
      "['sunny' 'warm' '?' 'strong' 'warm' 'same']\n",
      "\n",
      "After 3 th iteration specific-hypothesis:\n",
      "['sunny' 'warm' '?' 'strong' 'warm' 'same']\n",
      "\n",
      "After 4 th iteration specific-hypothesis:\n",
      "['sunny' 'warm' '?' 'strong' '?' '?']\n",
      "\n",
      "\n",
      "finally Specific-hypothesis:\n",
      "['sunny' 'warm' '?' 'strong' '?' '?']\n"
     ]
    }
   ],
   "source": [
    "result=finds(x,y)\n",
    "print(\"\\n\\nfinally Specific-hypothesis:\")\n",
    "print(result)"
   ]
  }
 ],
 "metadata": {
  "interpreter": {
   "hash": "136fbfdfec50e0de1d76604990c939142d19f0ac143ab97a6967c168d22f1d93"
  },
  "kernelspec": {
   "display_name": "Python 3.7.4 32-bit",
   "language": "python",
   "name": "python3"
  },
  "language_info": {
   "codemirror_mode": {
    "name": "ipython",
    "version": 3
   },
   "file_extension": ".py",
   "mimetype": "text/x-python",
   "name": "python",
   "nbconvert_exporter": "python",
   "pygments_lexer": "ipython3",
   "version": "3.7.4"
  },
  "orig_nbformat": 4
 },
 "nbformat": 4,
 "nbformat_minor": 2
}
